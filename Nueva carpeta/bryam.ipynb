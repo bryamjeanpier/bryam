{
 "cells": [
  {
   "cell_type": "code",
   "execution_count": 25,
   "metadata": {},
   "outputs": [
    {
     "name": "stdout",
     "output_type": "stream",
     "text": [
      "hola-mundo-CERTUS\n",
      "adios\n",
      "bienvenidos al curso comunicacion ciclo 1\n"
     ]
    }
   ],
   "source": [
    "print(\"hola\",\"mundo\",\"CERTUS\",sep='-', end='\\n')\n",
    "print(\"adios\")\n",
    "a = \"comunicacion\"\n",
    "b = \"ciclo 1\"\n",
    "print(\"bienvenidos al curso\",a,b)\n"
   ]
  },
  {
   "cell_type": "code",
   "execution_count": 29,
   "metadata": {},
   "outputs": [
    {
     "name": "stdout",
     "output_type": "stream",
     "text": [
      "bryam\n",
      "la suma es 2\n"
     ]
    },
    {
     "data": {
      "text/plain": [
       "[1, 2, 3, 4, 5, 6, 7, 8, 9, 10]"
      ]
     },
     "execution_count": 29,
     "metadata": {},
     "output_type": "execute_result"
    }
   ],
   "source": [
    "print(\"bryam\")\n",
    "# hola\n",
    "\"\"\" hola \"\"\" \n",
    "num1 = input(\"ingrese un numero\") \n",
    "num2 = input(\"ingrese un numero\")\n",
    "total = int(num1) + int(num2)\n",
    "print(\"la suma es\" , total)\n",
    "\n",
    "lista = [1,2,3,4,5,6,7,8,9,10]\n",
    "lista "
   ]
  },
  {
   "cell_type": "code",
   "execution_count": 46,
   "metadata": {},
   "outputs": [
    {
     "data": {
      "text/plain": [
       "[]"
      ]
     },
     "execution_count": 46,
     "metadata": {},
     "output_type": "execute_result"
    }
   ],
   "source": [
    "lista = [0,1,2,3,4,5,6,7,8,9,10]\n",
    "lista.append(5) #agrega elemento\n",
    "lista.pop(5) #quita elemento\n",
    "lista.sort() #ordena elemento\n",
    "lista.reverse()\n",
    "lista.clear()\n",
    "\n",
    "\n",
    "lista\n",
    "\n"
   ]
  },
  {
   "cell_type": "code",
   "execution_count": 64,
   "metadata": {},
   "outputs": [
    {
     "data": {
      "text/plain": [
       "['h', '']"
      ]
     },
     "execution_count": 64,
     "metadata": {},
     "output_type": "execute_result"
    }
   ],
   "source": [
    "\n",
    "productos =[]\n",
    "cantidad_productos=int(input())\n",
    "for i in range(cantidad_productos): #repetir\n",
    "    producto = input(\"ingrese producto\")\n",
    "    productos.append(producto)\n",
    "productos"
   ]
  },
  {
   "cell_type": "code",
   "execution_count": 69,
   "metadata": {},
   "outputs": [
    {
     "name": "stdout",
     "output_type": "stream",
     "text": [
      "1\n",
      "2\n"
     ]
    },
    {
     "data": {
      "text/plain": [
       "(0, 1, 2, 2, 3, 4, 5, 6)"
      ]
     },
     "execution_count": 69,
     "metadata": {},
     "output_type": "execute_result"
    }
   ],
   "source": [
    "tupla = (0,1,2,2,3,4,5,6) #inmutable\n",
    "print(tupla.count(3))\n",
    "print(tupla.index(2))\n",
    "\n",
    "tupla"
   ]
  },
  {
   "cell_type": "code",
   "execution_count": 81,
   "metadata": {},
   "outputs": [
    {
     "data": {
      "text/plain": [
       "{'codigo': ['1', '2', '3'], 'nombre': ['juanito', 'rosita', 'rigoberto']}"
      ]
     },
     "execution_count": 81,
     "metadata": {},
     "output_type": "execute_result"
    }
   ],
   "source": [
    "from pydoc import cli\n",
    "\n",
    "\n",
    "diccionario = { \"gato\" : \"cat\", \"perro\" :\"dog\"}\n",
    "diccionario.get(\"gato\")\n",
    "diccionario.keys()\n",
    "diccionario.values()\n",
    "diccionario.items()\n",
    "diccionario.pop(\"gato\")\n",
    "diccionario\n",
    "\n",
    "clientes = {\"codigo\": [\"1\",\"2\"] , \n",
    "            \"nombre\" : [\"juanito\" , \"rosita\"]}\n",
    "clientes[\"codigo\"].append(\"3\")\n",
    "clientes[\"nombre\"].append(\"rigoberto\")\n",
    "clientes"
   ]
  },
  {
   "cell_type": "code",
   "execution_count": 93,
   "metadata": {},
   "outputs": [
    {
     "name": "stdout",
     "output_type": "stream",
     "text": [
      "menor de edad\n"
     ]
    }
   ],
   "source": [
    "edad=1\n",
    "if edad>=18:\n",
    "    print(\"mayor de edad\")\n",
    "elif edad<=0:\n",
    "    print(\"tu edad no puede ser 0\")\n",
    "else:\n",
    "    print(\"menor de edad\")\n"
   ]
  },
  {
   "cell_type": "code",
   "execution_count": 128,
   "metadata": {},
   "outputs": [
    {
     "name": "stdout",
     "output_type": "stream",
     "text": [
      "tre\n"
     ]
    }
   ],
   "source": [
    "cantidad=9\n",
    "edad=11\n",
    "if (cantidad >=10 and edad <=10):\n",
    "    print(\"asdasdsad\")\n",
    "elif (cantidad <=10 and edad >=10):\n",
    "    print(\"tre\")\n",
    "else (cantidad )\n",
    "    "
   ]
  },
  {
   "cell_type": "code",
   "execution_count": 121,
   "metadata": {},
   "outputs": [
    {
     "name": "stdout",
     "output_type": "stream",
     "text": [
      "0\n",
      "2\n",
      "4\n",
      "6\n",
      "8\n"
     ]
    }
   ],
   "source": [
    "for i in range(10):\n",
    "    if i%2==0:\n",
    "        print(i)"
   ]
  }
 ],
 "metadata": {
  "kernelspec": {
   "display_name": "Python 3.9.12 ('base')",
   "language": "python",
   "name": "python3"
  },
  "language_info": {
   "codemirror_mode": {
    "name": "ipython",
    "version": 3
   },
   "file_extension": ".py",
   "mimetype": "text/x-python",
   "name": "python",
   "nbconvert_exporter": "python",
   "pygments_lexer": "ipython3",
   "version": "3.9.12"
  },
  "orig_nbformat": 4,
  "vscode": {
   "interpreter": {
    "hash": "ad2bdc8ecc057115af97d19610ffacc2b4e99fae6737bb82f5d7fb13d2f2c186"
   }
  }
 },
 "nbformat": 4,
 "nbformat_minor": 2
}
